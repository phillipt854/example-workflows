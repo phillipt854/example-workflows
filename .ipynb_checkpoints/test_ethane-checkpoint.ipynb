{
 "cells": [
  {
   "cell_type": "code",
   "execution_count": null,
   "metadata": {},
   "outputs": [],
   "source": [
    "import numpy as np\n",
    "import mbuild as mb\n",
    "from mbuild.formats.lammpsdata import write_lammpsdata\n",
    "from foyer import Forcefield\n",
    "\n",
    "# Import ethane structure from mbuild\n",
    "def Ethane():\n",
    "    from mbuild.lib.molecules import Ethane\n",
    "    return Ethane()\n",
    "ethane = Ethane()"
   ]
  },
  {
   "cell_type": "code",
   "execution_count": null,
   "metadata": {},
   "outputs": [],
   "source": [
    "# Load OPLAAA forcefield and apply forcefield to mbuild structure\n",
    "OPLSAA = Forcefield(name='oplsaa')\n",
    "structure = OPLSAA.apply(ethane)"
   ]
  },
  {
   "cell_type": "code",
   "execution_count": null,
   "metadata": {},
   "outputs": [],
   "source": [
    "# Write LAMMPS data file using new LAMMPS writer\n",
    "write_lammpsdata(filename='lj.lammps', structure=structure, unit_style='lj',\n",
    "                sigma_conversion_factor=3.5,epsilon_conversion_factor=0.066,\n",
    "                mass_conversion_factor=12.0)"
   ]
  },
  {
   "cell_type": "code",
   "execution_count": null,
   "metadata": {},
   "outputs": [],
   "source": []
  }
 ],
 "metadata": {
  "kernelspec": {
   "display_name": "Python 3",
   "language": "python",
   "name": "python3"
  },
  "language_info": {
   "codemirror_mode": {
    "name": "ipython",
    "version": 3
   },
   "file_extension": ".py",
   "mimetype": "text/x-python",
   "name": "python",
   "nbconvert_exporter": "python",
   "pygments_lexer": "ipython3",
   "version": "3.6.10"
  }
 },
 "nbformat": 4,
 "nbformat_minor": 4
}
