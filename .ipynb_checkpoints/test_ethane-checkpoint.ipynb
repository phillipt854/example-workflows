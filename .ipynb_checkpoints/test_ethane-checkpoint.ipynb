{
 "cells": [
  {
   "cell_type": "code",
   "execution_count": 1,
   "metadata": {},
   "outputs": [
    {
     "data": {
      "application/vnd.jupyter.widget-view+json": {
       "model_id": "68989309044a44f793259b0be29565ab",
       "version_major": 2,
       "version_minor": 0
      },
      "text/plain": []
     },
     "metadata": {},
     "output_type": "display_data"
    }
   ],
   "source": [
    "import numpy as np\n",
    "import pytest\n",
    "\n",
    "import mbuild as mb\n",
    "from mbuild.tests.base_test import BaseTest\n",
    "from mbuild.utils.io import get_fn\n",
    "from mbuild.formats.lammpsdata import write_lammpsdata\n",
    "from mbuild.utils.io import has_foyer\n",
    "from foyer import Forcefield\n",
    "\n",
    "def Ethane():\n",
    "    from mbuild.lib.molecules import Ethane\n",
    "    return Ethane()\n",
    "\n",
    "ethane = Ethane()"
   ]
  },
  {
   "cell_type": "code",
   "execution_count": null,
   "metadata": {},
   "outputs": [],
   "source": [
    "from foyer import Forcefield\n",
    "OPLSAA = Forcefield(name='oplsaa')\n",
    "structure = OPLSAA.apply(ethane)\n",
    "write_lammpsdata(filename='lj2.lammps', structure=structure, unit_style='real')"
   ]
  },
  {
   "cell_type": "code",
   "execution_count": null,
   "metadata": {},
   "outputs": [],
   "source": []
  }
 ],
 "metadata": {
  "kernelspec": {
   "display_name": "Python 3",
   "language": "python",
   "name": "python3"
  },
  "language_info": {
   "codemirror_mode": {
    "name": "ipython",
    "version": 3
   },
   "file_extension": ".py",
   "mimetype": "text/x-python",
   "name": "python",
   "nbconvert_exporter": "python",
   "pygments_lexer": "ipython3",
   "version": "3.6.10"
  }
 },
 "nbformat": 4,
 "nbformat_minor": 4
}
