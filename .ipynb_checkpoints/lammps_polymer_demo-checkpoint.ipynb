{
 "cells": [
  {
   "cell_type": "markdown",
   "metadata": {},
   "source": [
    "# Using LAMMPS to Perform MD Simulations of Coarse-Grained pvpy and pvpH\n",
    "\n",
    "This is an example workflow that initializes parametrized LAMMPS topology file for the coarse-grained Poly(4-vinylphenol) and Poly(2-vinylpyridine) models (Kapoor, U.; Kulshreshtha, A.; Jayaraman, A. Polymers 2020, 12 (11), 2764.) using MoSDeF. Besides the standard installation of mbuild, foyer and its dependencies (https://mosdef.org for more detail), you will need: mbuild_polymer (https://github.com/phillipt854/mBuild_polymer)"
   ]
  },
  {
   "cell_type": "code",
   "execution_count": 1,
   "metadata": {},
   "outputs": [],
   "source": [
    "import mbuild as mb\n",
    "from foyer import Forcefield"
   ]
  },
  {
   "cell_type": "markdown",
   "metadata": {},
   "source": [
    "## Initialization with mBuild\n",
    "\n",
    "Let's start with building a box of pvpy and pvph chains. \n",
    "\n",
    "For the syntax shown below, the arguments of polymer() are: \n",
    "1) A list containing chain lengths for all **pvpy** chains (e.g. [a,b,c] would correspond to three separate chains with a, b, and c monomers respectively.\n",
    "\n",
    "2) A list containing chain lengths for all **pvph** chains (e.g. [a,b,c] would correspond to three separate chains with a, b, and c monomers respectively.\n",
    "\n",
    "3) A list containing lattice parameters [X,Y,Z] for the initial configuration resulting in a X x Y x Z lattice."
   ]
  },
  {
   "cell_type": "code",
   "execution_count": 2,
   "metadata": {},
   "outputs": [
    {
     "name": "stderr",
     "output_type": "stream",
     "text": [
      "/home/phillipt/anaconda2/envs/gmso-dev/lib/python3.9/site-packages/ipykernel/ipkernel.py:287: DeprecationWarning: `should_run_async` will not call `transform_cell` automatically in the future. Please pass the result to `transformed_cell` argument and any exception that happen during thetransform in `preprocessing_exc_tuple` in IPython 7.17 and above.\n",
      "  and should_run_async(code)\n"
     ]
    }
   ],
   "source": [
    "polymerBox = mb.recipes.polymer([10],[5,5],[3,1,1])\n"
   ]
  },
  {
   "cell_type": "markdown",
   "metadata": {},
   "source": [
    "### AtomTyping with Foyer\n",
    "\n",
    "Now let's use Foyer to do atomtyping and forcefield application."
   ]
  },
  {
   "cell_type": "code",
   "execution_count": 3,
   "metadata": {
    "scrolled": true
   },
   "outputs": [
    {
     "name": "stderr",
     "output_type": "stream",
     "text": [
      "/home/phillipt/anaconda2/envs/gmso-dev/lib/python3.9/site-packages/ipykernel/ipkernel.py:287: DeprecationWarning: `should_run_async` will not call `transform_cell` automatically in the future. Please pass the result to `transformed_cell` argument and any exception that happen during thetransform in `preprocessing_exc_tuple` in IPython 7.17 and above.\n",
      "  and should_run_async(code)\n",
      "/home/phillipt/anaconda2/envs/gmso-dev/lib/python3.9/site-packages/foyer/forcefield.py:502: UserWarning: Non-atomistic element type detected. Creating custom element for _BB_pvpy\n",
      "  warnings.warn('Non-atomistic element type detected. '\n",
      "/home/phillipt/anaconda2/envs/gmso-dev/lib/python3.9/site-packages/foyer/forcefield.py:502: UserWarning: Non-atomistic element type detected. Creating custom element for _BB_pvph\n",
      "  warnings.warn('Non-atomistic element type detected. '\n",
      "/home/phillipt/anaconda2/envs/gmso-dev/lib/python3.9/site-packages/foyer/forcefield.py:502: UserWarning: Non-atomistic element type detected. Creating custom element for _HB_pvpy\n",
      "  warnings.warn('Non-atomistic element type detected. '\n",
      "/home/phillipt/anaconda2/envs/gmso-dev/lib/python3.9/site-packages/foyer/forcefield.py:502: UserWarning: Non-atomistic element type detected. Creating custom element for _HB_pvph\n",
      "  warnings.warn('Non-atomistic element type detected. '\n",
      "/home/phillipt/anaconda2/envs/gmso-dev/lib/python3.9/site-packages/foyer/forcefield.py:478: UserWarning: No force field version number found in force field XML file.\n",
      "  warnings.warn(\n",
      "/home/phillipt/anaconda2/envs/gmso-dev/lib/python3.9/site-packages/foyer/forcefield.py:490: UserWarning: No force field name found in force field XML file.\n",
      "  warnings.warn(\n"
     ]
    },
    {
     "name": "stdout",
     "output_type": "stream",
     "text": [
      "No urey bradley terms detected, will use angle_style harmonic\n",
      "Charmm dihedrals detected, will use dihedral_style charmm\n"
     ]
    },
    {
     "name": "stderr",
     "output_type": "stream",
     "text": [
      "/home/phillipt/mosdef/mbuild/mbuild/conversion.py:1684: UserWarning: No element attribute associated with '<_BB_pvpy pos=(-0.1850, 4.5000,-0.0000), 0 bonds, id: 140116112445840>'; and no matching elements found based upon the compound name. Setting atomic number to zero.\n",
      "  warn(warn_msg)\n",
      "/home/phillipt/mosdef/mbuild/mbuild/conversion.py:1684: UserWarning: No element attribute associated with '<_HB_pvpy pos=( 0.1850, 4.5000,-0.0000), 0 bonds, id: 140116112538880>'; and no matching elements found based upon the compound name. Setting atomic number to zero.\n",
      "  warn(warn_msg)\n",
      "/home/phillipt/mosdef/mbuild/mbuild/conversion.py:1684: UserWarning: No element attribute associated with '<_BB_pvph pos=( 2.7900, 2.2680, 0.0000), 0 bonds, id: 140115977660256>'; and no matching elements found based upon the compound name. Setting atomic number to zero.\n",
      "  warn(warn_msg)\n",
      "/home/phillipt/mosdef/mbuild/mbuild/conversion.py:1684: UserWarning: No element attribute associated with '<_HB_pvph pos=( 3.2100, 2.2680, 0.0000), 0 bonds, id: 140115977830112>'; and no matching elements found based upon the compound name. Setting atomic number to zero.\n",
      "  warn(warn_msg)\n",
      "/home/phillipt/anaconda2/envs/gmso-dev/lib/python3.9/site-packages/foyer/forcefield.py:297: UserWarning: Parameters have not been assigned to all angles. Total system angles: 48, Parameterized angles: 34\n",
      "  warnings.warn(msg)\n",
      "/home/phillipt/anaconda2/envs/gmso-dev/lib/python3.9/site-packages/foyer/forcefield.py:366: UserWarning: Parameters have been assigned to all proper dihedrals.  However, there are more parameterized dihedrals (96) than total system dihedrals (56).  This may be due to having multiple periodic dihedrals for a single system dihedral.\n",
      "  warnings.warn(msg)\n",
      "/home/phillipt/anaconda2/envs/gmso-dev/lib/python3.9/site-packages/foyer/forcefield.py:297: UserWarning: Parameters have not been assigned to all impropers. Total system impropers: 14, Parameterized impropers: 0. Note that if your system contains torsions of Ryckaert-Bellemans functional form, all of these torsions are processed as propers\n",
      "  warnings.warn(msg)\n",
      "/home/phillipt/mosdef/mbuild/mbuild/formats/lammpsdata.py:296: UserWarning: Explicit box bounds (i.e., mins and maxs) were not provided. Box bounds are assumed to be min = 0 and max = length in each direction. This may not produce a system with the expected spatial location and may cause non-periodic systems to fail. Bounds can be defined explicitly by passing the them to the write_lammpsdata function or by passing box info to the save function.\n",
      "  warn(\n"
     ]
    }
   ],
   "source": [
    "cgff = Forcefield(forcefield_files='files/polymer.xml')\n",
    "\n",
    "# Apply it to the mbuild structure \n",
    "polymerBox_typed =cgff.apply(polymerBox,assert_dihedral_params=False,assert_angle_params=False)\n",
    "\n",
    "# Output a LAMMPS data file\n",
    "mb.formats.lammpsdata.write_lammpsdata(polymerBox_typed,'files/polymer.lammps',atom_style='full',\n",
    "                                       unit_style='lj',sigma_conversion_factor=1,epsilon_conversion_factor=1,\n",
    "                                       mass_conversion_factor=1)"
   ]
  },
  {
   "cell_type": "markdown",
   "metadata": {},
   "source": [
    "To be continued: Running simulation in LAMMPS and result validation"
   ]
  }
 ],
 "metadata": {
  "kernelspec": {
   "display_name": "Python 3",
   "language": "python",
   "name": "python3"
  },
  "language_info": {
   "codemirror_mode": {
    "name": "ipython",
    "version": 3
   },
   "file_extension": ".py",
   "mimetype": "text/x-python",
   "name": "python",
   "nbconvert_exporter": "python",
   "pygments_lexer": "ipython3",
   "version": "3.9.2"
  }
 },
 "nbformat": 4,
 "nbformat_minor": 4
}
