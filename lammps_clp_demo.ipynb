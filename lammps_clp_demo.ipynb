{
 "cells": [
  {
   "cell_type": "markdown",
   "metadata": {},
   "source": [
    "# Using LAMMPS to Perform MD Simulations of Coarse-Grained CLP\n",
    "\n",
    "This is an example workflow that initializes parametrized LAMMPS topology file for the coarse-grained CLP model (J.E. Condon and A. Jayaraman, J. Phys. Chem B (2018) 122, 1929–1939) using MoSDeF. Besides the standard installation of mbuild, foyer and its dependencies (https://mosdef.org for more detail), you will need: mbuild_clp (https://github.com/phillipt854/mBuild_CLP)"
   ]
  },
  {
   "cell_type": "code",
   "execution_count": null,
   "metadata": {},
   "outputs": [],
   "source": [
    "import mbuild as mb\n",
    "from foyer import Forcefield"
   ]
  },
  {
   "cell_type": "markdown",
   "metadata": {},
   "source": [
    "## Initialization with mBuild\n",
    "\n",
    "Let's start with building a box of CLP triple helices. Note we usually start with fully hybridized helices in simulations and observe their behavior at an elevated temperature, as it will be very difficult for an un-hybridized strand to perfectly hybridize during a simulation due to long simulation run times.\n",
    "\n",
    "For the syntax shown below, the arguments of CLP_box are: 1) a list containing the amino acid sequence, 2) a list containing lattice parameters [X,Y,Z] for the initial configuration resulting in a X x Y x Z lattice, and 3) a list containing the number of positive and negative counterions to be added to the simulaiton box [positive,negative]."
   ]
  },
  {
   "cell_type": "code",
   "execution_count": null,
   "metadata": {},
   "outputs": [],
   "source": [
    "clpBox = mb.recipes.CLP(['PKGPOGDOG'],[1,1,1],[1,1])"
   ]
  },
  {
   "cell_type": "markdown",
   "metadata": {},
   "source": [
    "### AtomTyping with Foyer\n",
    "\n",
    "Now let's use Foyer to do atomtyping and forcefield application."
   ]
  },
  {
   "cell_type": "code",
   "execution_count": null,
   "metadata": {},
   "outputs": [],
   "source": [
    "cgff = Forcefield(forcefield_files='files/CLP.xml')\n",
    "\n",
    "# Apply it to the mbuild structure \n",
    "clpBox_typed =cgff.apply(clpBox,assert_dihedral_params=False)\n",
    "\n",
    "# Output a LAMMPS data file\n",
    "mb.formats.lammpsdata.write_lammpsdata(clpBox_typed,'files/CLP.lammps',atom_style='full',\n",
    "                                       unit_style='lj',sigma_conversion_factor=1,epsilon_conversion_factor=1,\n",
    "                                       mass_conversion_factor=1)"
   ]
  },
  {
   "cell_type": "markdown",
   "metadata": {},
   "source": [
    "To be continued: Running simulation in LAMMPS and result validation"
   ]
  }
 ],
 "metadata": {
  "kernelspec": {
   "display_name": "Python 3",
   "language": "python",
   "name": "python3"
  },
  "language_info": {
   "codemirror_mode": {
    "name": "ipython",
    "version": 3
   },
   "file_extension": ".py",
   "mimetype": "text/x-python",
   "name": "python",
   "nbconvert_exporter": "python",
   "pygments_lexer": "ipython3",
   "version": "3.6.10"
  }
 },
 "nbformat": 4,
 "nbformat_minor": 4
}
