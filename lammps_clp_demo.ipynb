{
 "cells": [
  {
   "cell_type": "markdown",
   "metadata": {},
   "source": [
    "# Using LAMMPS to Perform MD Simulations of Coarse-Grained CLP\n",
    "\n",
    "This is an example workflow that initializes parametrized LAMMPS topology file for the coarse-grained CLP model (J.E. Condon and A. Jayaraman, J. Phys. Chem B (2018) 122, 1929–1939) using MoSDeF. Besides the standard installation of mbuild, foyer and its dependencies (https://mosdef.org for more detail), you will need: mbuild_clp (https://github.com/phillipt854/mBuild_CLP)"
   ]
  },
  {
   "cell_type": "code",
   "execution_count": 1,
   "metadata": {},
   "outputs": [
    {
     "data": {
      "application/vnd.jupyter.widget-view+json": {
       "model_id": "4978b52203014ba2afbeeb259eea7db4",
       "version_major": 2,
       "version_minor": 0
      },
      "text/plain": []
     },
     "metadata": {},
     "output_type": "display_data"
    }
   ],
   "source": [
    "import mbuild as mb\n",
    "from foyer import Forcefield"
   ]
  },
  {
   "cell_type": "markdown",
   "metadata": {},
   "source": [
    "## Initialization with mBuild\n",
    "\n",
    "Let's start with building a box of CLP triple helices. Note we usually start with fully hybridized helices in simulations and observe their behavior at an elevated temperature, as it will be very difficult for an un-hybridized strand to perfectly hybridize during a simulation due to long simulation run times.\n",
    "\n",
    "For the syntax shown below, the arguments of CLP() are: 1) a list containing the amino acid sequence, 2) a list containing lattice parameters [X,Y,Z] for the initial configuration resulting in a X x Y x Z lattice, and 3) a list containing the number of positive and negative counterions to be added to the simulaiton box [positive,negative]."
   ]
  },
  {
   "cell_type": "code",
   "execution_count": 2,
   "metadata": {},
   "outputs": [],
   "source": [
    "clpBox = mb.recipes.CLP(['PKGPOGDOG'],[1,1,1],[1,1])"
   ]
  },
  {
   "cell_type": "markdown",
   "metadata": {},
   "source": [
    "### AtomTyping with Foyer\n",
    "\n",
    "Now let's use Foyer to do atomtyping and forcefield application."
   ]
  },
  {
   "cell_type": "code",
   "execution_count": 3,
   "metadata": {},
   "outputs": [
    {
     "name": "stderr",
     "output_type": "stream",
     "text": [
      "/home/phillipt/mosdef/foyer/foyer/forcefield.py:473: UserWarning: Non-atomistic element type detected. Creating custom element for _BBP\n",
      "  'Creating custom element for {}'.format(element))\n",
      "/home/phillipt/mosdef/foyer/foyer/forcefield.py:473: UserWarning: Non-atomistic element type detected. Creating custom element for _BBO\n",
      "  'Creating custom element for {}'.format(element))\n",
      "/home/phillipt/mosdef/foyer/foyer/forcefield.py:473: UserWarning: Non-atomistic element type detected. Creating custom element for _BBG\n",
      "  'Creating custom element for {}'.format(element))\n",
      "/home/phillipt/mosdef/foyer/foyer/forcefield.py:473: UserWarning: Non-atomistic element type detected. Creating custom element for _BBK\n",
      "  'Creating custom element for {}'.format(element))\n",
      "/home/phillipt/mosdef/foyer/foyer/forcefield.py:473: UserWarning: Non-atomistic element type detected. Creating custom element for _BBD\n",
      "  'Creating custom element for {}'.format(element))\n",
      "/home/phillipt/mosdef/foyer/foyer/forcefield.py:473: UserWarning: Non-atomistic element type detected. Creating custom element for _HBP\n",
      "  'Creating custom element for {}'.format(element))\n",
      "/home/phillipt/mosdef/foyer/foyer/forcefield.py:473: UserWarning: Non-atomistic element type detected. Creating custom element for _HBG\n",
      "  'Creating custom element for {}'.format(element))\n",
      "/home/phillipt/mosdef/foyer/foyer/forcefield.py:473: UserWarning: Non-atomistic element type detected. Creating custom element for _INC\n",
      "  'Creating custom element for {}'.format(element))\n",
      "/home/phillipt/mosdef/foyer/foyer/forcefield.py:473: UserWarning: Non-atomistic element type detected. Creating custom element for _INA\n",
      "  'Creating custom element for {}'.format(element))\n",
      "/home/phillipt/mosdef/foyer/foyer/forcefield.py:449: UserWarning: No force field version number found in force field XML file.\n",
      "  'No force field version number found in force field XML file.'\n",
      "/home/phillipt/mosdef/foyer/foyer/forcefield.py:461: UserWarning: No force field name found in force field XML file.\n",
      "  'No force field name found in force field XML file.'\n",
      "/home/phillipt/mosdef/mbuild/mbuild/compound.py:2516: UserWarning: Guessing that \"<_BBP pos=(-0.7286, 1.5000,-0.0740), 0 bonds, id: 139793030739168>\" is element: \"EP\"\n",
      "  atom, element))\n",
      "/home/phillipt/mosdef/mbuild/mbuild/compound.py:2516: UserWarning: Guessing that \"<_HBP pos=(-0.4082, 1.5000, 0.1110), 0 bonds, id: 139793030853744>\" is element: \"EP\"\n",
      "  atom, element))\n",
      "/home/phillipt/mosdef/mbuild/mbuild/compound.py:2516: UserWarning: Guessing that \"<_BBK pos=(-0.7286, 1.0000,-0.0740), 0 bonds, id: 139793030855760>\" is element: \"EP\"\n",
      "  atom, element))\n",
      "/home/phillipt/mosdef/mbuild/mbuild/compound.py:2516: UserWarning: Guessing that \"<_BBG pos=(-0.7286, 0.5000,-0.0740), 0 bonds, id: 139792970526000>\" is element: \"EP\"\n",
      "  atom, element))\n",
      "/home/phillipt/mosdef/mbuild/mbuild/compound.py:2516: UserWarning: Guessing that \"<_HBG pos=(-0.4082, 0.5000, 0.1110), 0 bonds, id: 139792970603712>\" is element: \"EP\"\n",
      "  atom, element))\n",
      "/home/phillipt/mosdef/mbuild/mbuild/compound.py:2516: UserWarning: Guessing that \"<_BBO pos=(-0.7286,-0.5000,-0.0740), 0 bonds, id: 139792970201912>\" is element: \"EP\"\n",
      "  atom, element))\n",
      "/home/phillipt/mosdef/mbuild/mbuild/compound.py:2516: UserWarning: Guessing that \"<_BBD pos=(-0.7286,-1.5000,-0.0740), 0 bonds, id: 139792970329616>\" is element: \"EP\"\n",
      "  atom, element))\n",
      "/home/phillipt/mosdef/mbuild/mbuild/compound.py:2516: UserWarning: Guessing that \"<_INC pos=( 2.0000, 1.0000, 1.0000), 0 bonds, id: 139792969390232>\" is element: \"EP\"\n",
      "  atom, element))\n",
      "/home/phillipt/mosdef/mbuild/mbuild/compound.py:2516: UserWarning: Guessing that \"<_INA pos=( 3.5000, 1.0000, 1.0000), 0 bonds, id: 139793030854136>\" is element: \"EP\"\n",
      "  atom, element))\n"
     ]
    },
    {
     "name": "stdout",
     "output_type": "stream",
     "text": [
      "No urey bradley terms detected, will use angle_style harmonic\n",
      "Charmm dihedrals detected, will use dihedral_style charmm\n"
     ]
    },
    {
     "name": "stderr",
     "output_type": "stream",
     "text": [
      "/home/phillipt/mosdef/foyer/foyer/forcefield.py:267: UserWarning: Parameters have not been assigned to all proper dihedrals. Total system dihedrals: 54, Parameterized dihedrals: 6. Note that if your system contains torsions of Ryckaert-Bellemans functional form, all of these torsions are processed as propers.\n",
      "  warnings.warn(msg)\n",
      "/home/phillipt/mosdef/foyer/foyer/forcefield.py:267: UserWarning: Parameters have not been assigned to all impropers. Total system impropers: 12, Parameterized impropers: 0. Note that if your system contains torsions of Ryckaert-Bellemans functional form, all of these torsions are processed as propers\n",
      "  warnings.warn(msg)\n",
      "/home/phillipt/mosdef/mbuild/mbuild/formats/lammpsdata.py:222: UserWarning: Explicit box bounds (i.e., mins and maxs) were not provided. Box bounds are assumed to be min = 0 and max = length in each direction. This may not produce a system with the expected spatial location and may cause non-periodic systems to fail. Bounds can be defined explicitly by passing the them to the write_lammpsdata function or by passing box info to the save function.\n",
      "  warn('Explicit box bounds (i.e., mins and maxs) were not provided. Box bounds are assumed to be min = 0 and max = length in each direction. This may not produce a system with the expected spatial location and may cause non-periodic systems to fail. Bounds can be defined explicitly by passing the them to the write_lammpsdata function or by passing box info to the save function.')\n"
     ]
    }
   ],
   "source": [
    "cgff = Forcefield(forcefield_files='files/CLP.xml')\n",
    "\n",
    "# Apply it to the mbuild structure \n",
    "clpBox_typed =cgff.apply(clpBox,assert_dihedral_params=False)\n",
    "\n",
    "# Output a LAMMPS data file\n",
    "mb.formats.lammpsdata.write_lammpsdata(clpBox_typed,'files/CLP.lammps',atom_style='full',\n",
    "                                       unit_style='lj',sigma_conversion_factor=1,epsilon_conversion_factor=1,\n",
    "                                       mass_conversion_factor=1)"
   ]
  },
  {
   "cell_type": "markdown",
   "metadata": {},
   "source": [
    "To be continued: Running simulation in LAMMPS and result validation"
   ]
  }
 ],
 "metadata": {
  "kernelspec": {
   "display_name": "Python 3",
   "language": "python",
   "name": "python3"
  },
  "language_info": {
   "codemirror_mode": {
    "name": "ipython",
    "version": 3
   },
   "file_extension": ".py",
   "mimetype": "text/x-python",
   "name": "python",
   "nbconvert_exporter": "python",
   "pygments_lexer": "ipython3",
   "version": "3.6.10"
  }
 },
 "nbformat": 4,
 "nbformat_minor": 4
}
