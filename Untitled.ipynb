{
 "cells": [
  {
   "cell_type": "code",
   "execution_count": 1,
   "metadata": {},
   "outputs": [
    {
     "data": {
      "application/vnd.jupyter.widget-view+json": {
       "model_id": "8fe475f49f5b4d92ad1a229655bd7ddf",
       "version_major": 2,
       "version_minor": 0
      },
      "text/plain": []
     },
     "metadata": {},
     "output_type": "display_data"
    }
   ],
   "source": [
    "import mbuild as mb\n",
    "from mbuild_CLP.mbuild_CLP import CLP_box\n",
    "clpBox = CLP_box(['PKGPOGDOG'],[1,1,1],[1,1])"
   ]
  },
  {
   "cell_type": "code",
   "execution_count": 2,
   "metadata": {},
   "outputs": [
    {
     "name": "stdout",
     "output_type": "stream",
     "text": [
      "No urey bradley terms detected, will use angle_style harmonic\n",
      "Charmm dihedrals detected, will use dihedral_style charmm\n"
     ]
    },
    {
     "name": "stderr",
     "output_type": "stream",
     "text": [
      "/home/phillipt/mosdef/foyer/foyer/forcefield.py:473: UserWarning: Non-atomistic element type detected. Creating custom element for _BBP\n",
      "  'Creating custom element for {}'.format(element))\n",
      "/home/phillipt/mosdef/foyer/foyer/forcefield.py:473: UserWarning: Non-atomistic element type detected. Creating custom element for _BBO\n",
      "  'Creating custom element for {}'.format(element))\n",
      "/home/phillipt/mosdef/foyer/foyer/forcefield.py:473: UserWarning: Non-atomistic element type detected. Creating custom element for _BBG\n",
      "  'Creating custom element for {}'.format(element))\n",
      "/home/phillipt/mosdef/foyer/foyer/forcefield.py:473: UserWarning: Non-atomistic element type detected. Creating custom element for _BBK\n",
      "  'Creating custom element for {}'.format(element))\n",
      "/home/phillipt/mosdef/foyer/foyer/forcefield.py:473: UserWarning: Non-atomistic element type detected. Creating custom element for _BBD\n",
      "  'Creating custom element for {}'.format(element))\n",
      "/home/phillipt/mosdef/foyer/foyer/forcefield.py:473: UserWarning: Non-atomistic element type detected. Creating custom element for _HBP\n",
      "  'Creating custom element for {}'.format(element))\n",
      "/home/phillipt/mosdef/foyer/foyer/forcefield.py:473: UserWarning: Non-atomistic element type detected. Creating custom element for _HBG\n",
      "  'Creating custom element for {}'.format(element))\n",
      "/home/phillipt/mosdef/foyer/foyer/forcefield.py:473: UserWarning: Non-atomistic element type detected. Creating custom element for _INC\n",
      "  'Creating custom element for {}'.format(element))\n",
      "/home/phillipt/mosdef/foyer/foyer/forcefield.py:473: UserWarning: Non-atomistic element type detected. Creating custom element for _INA\n",
      "  'Creating custom element for {}'.format(element))\n",
      "/home/phillipt/mosdef/foyer/foyer/forcefield.py:449: UserWarning: No force field version number found in force field XML file.\n",
      "  'No force field version number found in force field XML file.'\n",
      "/home/phillipt/mosdef/foyer/foyer/forcefield.py:461: UserWarning: No force field name found in force field XML file.\n",
      "  'No force field name found in force field XML file.'\n",
      "/home/phillipt/mosdef/mbuild/mbuild/compound.py:2516: UserWarning: Guessing that \"<_BBP pos=(-0.7286, 1.5000,-0.0740), 0 bonds, id: 140521417302704>\" is element: \"EP\"\n",
      "  atom, element))\n",
      "/home/phillipt/mosdef/mbuild/mbuild/compound.py:2516: UserWarning: Guessing that \"<_HBP pos=(-0.4082, 1.5000, 0.1110), 0 bonds, id: 140521417417280>\" is element: \"EP\"\n",
      "  atom, element))\n",
      "/home/phillipt/mosdef/mbuild/mbuild/compound.py:2516: UserWarning: Guessing that \"<_BBK pos=(-0.7286, 1.0000,-0.0740), 0 bonds, id: 140521417419296>\" is element: \"EP\"\n",
      "  atom, element))\n",
      "/home/phillipt/mosdef/mbuild/mbuild/compound.py:2516: UserWarning: Guessing that \"<_BBG pos=(-0.7286, 0.5000,-0.0740), 0 bonds, id: 140521357093632>\" is element: \"EP\"\n",
      "  atom, element))\n",
      "/home/phillipt/mosdef/mbuild/mbuild/compound.py:2516: UserWarning: Guessing that \"<_HBG pos=(-0.4082, 0.5000, 0.1110), 0 bonds, id: 140521357159056>\" is element: \"EP\"\n",
      "  atom, element))\n",
      "/home/phillipt/mosdef/mbuild/mbuild/compound.py:2516: UserWarning: Guessing that \"<_BBO pos=(-0.7286,-0.5000,-0.0740), 0 bonds, id: 140521356761352>\" is element: \"EP\"\n",
      "  atom, element))\n",
      "/home/phillipt/mosdef/mbuild/mbuild/compound.py:2516: UserWarning: Guessing that \"<_BBD pos=(-0.7286,-1.5000,-0.0740), 0 bonds, id: 140521356886592>\" is element: \"EP\"\n",
      "  atom, element))\n",
      "/home/phillipt/mosdef/mbuild/mbuild/compound.py:2516: UserWarning: Guessing that \"<_INC pos=( 2.0000, 1.0000, 1.0000), 0 bonds, id: 140521356307480>\" is element: \"EP\"\n",
      "  atom, element))\n",
      "/home/phillipt/mosdef/mbuild/mbuild/compound.py:2516: UserWarning: Guessing that \"<_INA pos=( 3.5000, 1.0000, 1.0000), 0 bonds, id: 140521356307200>\" is element: \"EP\"\n",
      "  atom, element))\n",
      "/home/phillipt/mosdef/foyer/foyer/forcefield.py:267: UserWarning: Parameters have not been assigned to all proper dihedrals. Total system dihedrals: 54, Parameterized dihedrals: 6. Note that if your system contains torsions of Ryckaert-Bellemans functional form, all of these torsions are processed as propers.\n",
      "  warnings.warn(msg)\n",
      "/home/phillipt/mosdef/foyer/foyer/forcefield.py:267: UserWarning: Parameters have not been assigned to all impropers. Total system impropers: 12, Parameterized impropers: 0. Note that if your system contains torsions of Ryckaert-Bellemans functional form, all of these torsions are processed as propers\n",
      "  warnings.warn(msg)\n",
      "/home/phillipt/mosdef/mbuild/mbuild/formats/lammpsdata.py:222: UserWarning: Explicit box bounds (i.e., mins and maxs) were not provided. Box bounds are assumed to be min = 0 and max = length in each direction. This may not produce a system with the expected spatial location and may cause non-periodic systems to fail. Bounds can be defined explicitly by passing the them to the write_lammpsdata function or by passing box info to the save function.\n",
      "  warn('Explicit box bounds (i.e., mins and maxs) were not provided. Box bounds are assumed to be min = 0 and max = length in each direction. This may not produce a system with the expected spatial location and may cause non-periodic systems to fail. Bounds can be defined explicitly by passing the them to the write_lammpsdata function or by passing box info to the save function.')\n"
     ]
    }
   ],
   "source": [
    "from foyer import Forcefield\n",
    "cgff = Forcefield(forcefield_files='files/CLP.xml')\n",
    "\n",
    "# Apply it to the mbuild structure \n",
    "clpBox_typed =cgff.apply(clpBox,assert_dihedral_params=False)\n",
    "\n",
    "# Output a LAMMPS data file\n",
    "mb.formats.lammpsdata.write_lammpsdata(clpBox_typed,'files/CLP.lammps',atom_style='full',\n",
    "                                       unit_style='lj',sigma_conversion_factor=1,epsilon_conversion_factor=1,\n",
    "                                       mass_conversion_factor=1)"
   ]
  }
 ],
 "metadata": {
  "kernelspec": {
   "display_name": "Python 3",
   "language": "python",
   "name": "python3"
  },
  "language_info": {
   "codemirror_mode": {
    "name": "ipython",
    "version": 3
   },
   "file_extension": ".py",
   "mimetype": "text/x-python",
   "name": "python",
   "nbconvert_exporter": "python",
   "pygments_lexer": "ipython3",
   "version": "3.6.10"
  }
 },
 "nbformat": 4,
 "nbformat_minor": 4
}
